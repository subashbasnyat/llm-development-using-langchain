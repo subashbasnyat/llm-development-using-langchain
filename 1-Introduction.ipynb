{
 "cells": [
  {
   "cell_type": "markdown",
   "id": "0b3eb3e2-564a-4c59-85d5-479aa45c32df",
   "metadata": {
    "jp-MarkdownHeadingCollapsed": true
   },
   "source": [
    "# Introduction\n",
    "\n",
    "- Open-source development framework for LLM applications\n",
    "- Python and JavaScript (TypeScript) packages\n",
    "- Focused on compostion and modularity\n",
    "\n",
    "Key value adds:\n",
    "1. Modular components\n",
    "2. Use cases: Common ways to combine components"
   ]
  },
  {
   "cell_type": "markdown",
   "id": "1f1fa029-bb17-470b-9e15-7f06c6f2cab4",
   "metadata": {},
   "source": [
    "## Components of LangChain"
   ]
  },
  {
   "cell_type": "markdown",
   "id": "c9f26abd-a9e9-4782-93be-747243dd5d88",
   "metadata": {
    "jp-MarkdownHeadingCollapsed": true
   },
   "source": [
    "### Models\n",
    "- LLMs: 20+ integrations\n",
    "- Chat Models\n",
    "- Text Embedding Models: 10+ integrations"
   ]
  },
  {
   "cell_type": "markdown",
   "id": "98491b8e-2d0f-4414-9142-8eaffbdc1c46",
   "metadata": {},
   "source": [
    "### Prompts\n",
    "- Prompt Templates\n",
    "- Output Parsers: 5+ implementations\n",
    "    - Retry/fixing logic\n",
    "- Example Selectors: 5+ implementations"
   ]
  },
  {
   "cell_type": "markdown",
   "id": "b03abedf-46c7-4574-a333-226ef51c006f",
   "metadata": {},
   "source": [
    "### Indexes\n",
    "- Document Loaders: 50+ implementation\n",
    "- Text Splitters: 10+ implementation\n",
    "- Vector Stores: 10+ integrations\n",
    "- Retrievers: 5+ integrations/implementations"
   ]
  },
  {
   "cell_type": "markdown",
   "id": "629f15e3-7e58-4af4-a288-abad478a6e04",
   "metadata": {
    "jp-MarkdownHeadingCollapsed": true
   },
   "source": [
    "### Chains\n",
    "- Prompt + LLM + Output parsing\n",
    "- Can be used as building blocks for longer chains\n",
    "- More application specific chains: 20+ types"
   ]
  },
  {
   "cell_type": "markdown",
   "id": "d6828a45-5cad-4300-afc1-02c5ec6c4eaf",
   "metadata": {
    "jp-MarkdownHeadingCollapsed": true
   },
   "source": [
    "### Agents\n",
    "- Agent Types: 5+ types\n",
    "    - Algorithms for getting LLMs to use tools\n",
    "- Agent Toolkits: 10+ implementation\n",
    "    - Agents armed with specific tools for a specific application"
   ]
  }
 ],
 "metadata": {
  "kernelspec": {
   "display_name": "Python 3 (ipykernel)",
   "language": "python",
   "name": "python3"
  },
  "language_info": {
   "codemirror_mode": {
    "name": "ipython",
    "version": 3
   },
   "file_extension": ".py",
   "mimetype": "text/x-python",
   "name": "python",
   "nbconvert_exporter": "python",
   "pygments_lexer": "ipython3",
   "version": "3.12.2"
  }
 },
 "nbformat": 4,
 "nbformat_minor": 5
}
