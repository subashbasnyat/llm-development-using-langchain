{
 "cells": [
  {
   "cell_type": "code",
   "execution_count": 1,
   "id": "ec864696-4517-4ce0-9d4c-d8c18e9316d7",
   "metadata": {},
   "outputs": [],
   "source": [
    "import os\n",
    "os.environ[\"NVIDIA_API_KEY\"] = \"XXXXXXXXXXXXXXXXXXXXXXXXXXXXXX\""
   ]
  },
  {
   "cell_type": "code",
   "execution_count": 2,
   "id": "410afc2f-1c72-4cd0-8484-55845d95808c",
   "metadata": {},
   "outputs": [],
   "source": [
    "from langchain_nvidia_ai_endpoints import ChatNVIDIA\n",
    "llm_nvidia = ChatNVIDIA(model=\"mistralai/mixtral-8x7b-instruct-v0.1\")"
   ]
  },
  {
   "cell_type": "code",
   "execution_count": 3,
   "id": "099dc04f-cc11-4df6-b709-f36f8b1ea2f4",
   "metadata": {},
   "outputs": [],
   "source": [
    "from langchain_community.chat_models import ChatOllama\n",
    "\n",
    "llm_ollama = ChatOllama(model=\"llama3\")"
   ]
  },
  {
   "cell_type": "code",
   "execution_count": 4,
   "id": "13563f48-c3f7-4939-886f-104ad1685042",
   "metadata": {},
   "outputs": [],
   "source": [
    "llm = llm_nvidia"
   ]
  },
  {
   "cell_type": "markdown",
   "id": "981d4a69-6867-499e-9c53-c44e9fdbbde8",
   "metadata": {},
   "source": [
    "# Question and Answer"
   ]
  },
  {
   "cell_type": "markdown",
   "id": "55563d8a-236e-4b37-9f48-5e9a64acdc80",
   "metadata": {},
   "source": [
    "![LLMS on Documents](data/images/llms-on-documents.png)"
   ]
  },
  {
   "cell_type": "markdown",
   "id": "0e2538d6-aeaf-4bae-856e-a2ecc4daf9c5",
   "metadata": {},
   "source": [
    "![Embeddings](data/images/embeddings.png)"
   ]
  },
  {
   "cell_type": "markdown",
   "id": "d7ba7803-504e-45b7-8c47-371f4d140b61",
   "metadata": {},
   "source": [
    "![Vector Database](data/images/vector-database.png)"
   ]
  },
  {
   "cell_type": "markdown",
   "id": "66ef2a83-c9bd-478b-acb3-b1a677dfc131",
   "metadata": {},
   "source": [
    "![Vector Database to LLM](data/images/vector-database-to-llm.png)"
   ]
  },
  {
   "cell_type": "code",
   "execution_count": 5,
   "id": "937d0669-b0fe-4d6f-8334-86533b234748",
   "metadata": {},
   "outputs": [],
   "source": [
    "from langchain.chains import RetrievalQA\n",
    "from langchain.chat_models import ChatOpenAI\n",
    "from langchain.document_loaders import CSVLoader\n",
    "from langchain.vectorstores import DocArrayInMemorySearch\n",
    "from IPython.display import display, Markdown"
   ]
  },
  {
   "cell_type": "markdown",
   "id": "b30751c2-4d7f-4aa3-9804-ca17c19d56d4",
   "metadata": {},
   "source": [
    "### VectorstoreIndexCreator"
   ]
  },
  {
   "cell_type": "code",
   "execution_count": 6,
   "id": "f2391ed1-d7b7-4935-bd1b-a1b644a2576e",
   "metadata": {},
   "outputs": [],
   "source": [
    "file = 'data/files/OutdoorClothingCatalog_1000.csv'\n",
    "loader = CSVLoader(file_path=file)"
   ]
  },
  {
   "cell_type": "code",
   "execution_count": 7,
   "id": "aa15ed65-e7d0-40b5-8482-6e55c528e818",
   "metadata": {},
   "outputs": [],
   "source": [
    "from langchain.indexes import VectorstoreIndexCreator"
   ]
  },
  {
   "cell_type": "code",
   "execution_count": 8,
   "id": "4bf4898d-df5e-4b2f-b87f-b63c3b6fba9c",
   "metadata": {},
   "outputs": [
    {
     "name": "stderr",
     "output_type": "stream",
     "text": [
      "/home/mojo/miniconda3/lib/python3.12/site-packages/sentence_transformers/cross_encoder/CrossEncoder.py:11: TqdmWarning: IProgress not found. Please update jupyter and ipywidgets. See https://ipywidgets.readthedocs.io/en/stable/user_install.html\n",
      "  from tqdm.autonotebook import tqdm, trange\n",
      "/home/mojo/miniconda3/lib/python3.12/site-packages/huggingface_hub/file_download.py:1132: FutureWarning: `resume_download` is deprecated and will be removed in version 1.0.0. Downloads always resume when possible. If you want to force a new download, use `force_download=True`.\n",
      "  warnings.warn(\n"
     ]
    }
   ],
   "source": [
    "from langchain_huggingface import HuggingFaceEmbeddings\n",
    "\n",
    "embedding = HuggingFaceEmbeddings(model_name=\"BAAI/bge-small-en-v1.5\")"
   ]
  },
  {
   "cell_type": "code",
   "execution_count": 9,
   "id": "7205d4c6-160a-4248-bc6a-b1341fbe2671",
   "metadata": {},
   "outputs": [
    {
     "name": "stderr",
     "output_type": "stream",
     "text": [
      "/home/mojo/miniconda3/lib/python3.12/site-packages/pydantic/_migration.py:283: UserWarning: `pydantic.error_wrappers:ValidationError` has been moved to `pydantic:ValidationError`.\n",
      "  warnings.warn(f'`{import_path}` has been moved to `{new_location}`.')\n"
     ]
    }
   ],
   "source": [
    "index = VectorstoreIndexCreator(\n",
    "    vectorstore_cls=DocArrayInMemorySearch,\n",
    "    embedding= embedding\n",
    ").from_loaders([loader])"
   ]
  },
  {
   "cell_type": "code",
   "execution_count": 10,
   "id": "ac79d9f5-5b8e-4fd4-b706-d5ce6137a627",
   "metadata": {},
   "outputs": [],
   "source": [
    "query =\"Please list all your shirts with sun protection \\\n",
    "in a table in markdown and summarize each one.\""
   ]
  },
  {
   "cell_type": "code",
   "execution_count": 11,
   "id": "41eb3399-95b0-4069-940b-a3f1e55673a4",
   "metadata": {},
   "outputs": [],
   "source": [
    "response = index.query(query, \n",
    "                       llm = llm)"
   ]
  },
  {
   "cell_type": "code",
   "execution_count": 12,
   "id": "ecabf9be-6088-43d8-aaaa-41e3537fb56c",
   "metadata": {},
   "outputs": [
    {
     "data": {
      "text/markdown": [
       " | Product ID | Name | Description | Fabric & Care | Sun Protection |\n",
       "| --- | --- | --- | --- | --- |\n",
       "| 679 | Women's Tropical Tee, Sleeveless | Five-star sleeveless button-up shirt with SunSmart™ protection to block UV rays. Slightly fitted, wrinkle-resistant, and has two front pockets. Fabric: 71% nylon, 29% polyester. Machine washable. | Built-in SunSmart™ UPF 50+ rated sun protection, blocking 98% of harmful rays | Yes |\n",
       "| 255 | Sun Shield Shirt by | High-performance sun shirt that is guaranteed to protect from harmful UV rays. Slightly fitted, moisture-wicking, quick-drying, and abrasion-resistant. Fabric: 78% nylon, 22% Lycra Xtra Life fiber. Handwash and line dry recommended. | UPF 50+ rated sun protection, blocking 98% of harmful rays, and recommended by The Skin Cancer Foundation as an effective UV protectant. | Yes |\n",
       "| 618 | Men's Tropical Plaid Short-Sleeve Shirt | Lightweight hot-weather shirt with front and back cape venting for cool breezes. Relaxed traditional fit and two front bellows pockets. Fabric: 100% polyester. Machine washable. | UPF 50+ rated sun protection, blocking 98% of harmful rays, and wrinkle-resistant. | Yes |\n",
       "| 709 | Sunrise Tee | Lightweight performance synthetic shirt for women. Slightly fitted, wrinkle-free, and has a cape lining for sun protection. Fast-drying and moisture-wicking. Fabric: 71% nylon, 29% polyester. Machine washable. | Built-in sun protection with a UPF 50+ rating. | Yes |\n",
       "\n",
       "In summary, all four shirts offer UPF 50+ sun protection that blocks 98% of harmful UV rays, is lightweight and designed for hot weather, wrinkle-resistant, and machine washable. The Women's Tropical Tee and Sunrise Tee are specifically designed for women, while the Tropical Plaid Shirt is for men. The Sun Shield Shirt offers additional features such as moisture-wicking and quick-drying capabilities."
      ],
      "text/plain": [
       "<IPython.core.display.Markdown object>"
      ]
     },
     "metadata": {},
     "output_type": "display_data"
    }
   ],
   "source": [
    "display(Markdown(response))"
   ]
  },
  {
   "cell_type": "markdown",
   "id": "dc21140c-1b42-41b2-b8ad-14c2ff87ab1e",
   "metadata": {},
   "source": [
    "### Step by Step"
   ]
  },
  {
   "cell_type": "markdown",
   "id": "06b49f85-b238-42fc-83ce-cb7f42fdd7e0",
   "metadata": {},
   "source": [
    "Question answering over documents consists of four steps:\n",
    "1) Create an index\n",
    "2) Create a Retriever from that index\n",
    "3) Create a question-answering chain\n",
    "4) Ask questions!\n",
    "\n",
    "\n",
    "To use retrieval in LangChain, you can follow these steps:\n",
    "1) Load documents: Use document loaders to load documents from various sources, such as files, websites, or databases.\n",
    "1) Transform documents: Apply document transformers to preprocess and transform the loaded documents, such as splitting large documents into smaller chunks or applying specific logic optimized for different document types.\n",
    "1) Create embeddings: Generate embeddings for the documents using text embedding models. Embeddings capture the semantic meaning of text and enable efficient searching and similarity calculations.\n",
    "1) Store documents and embeddings: Use vector stores to store the documents and their corresponding embeddings. Vector stores provide efficient storage and retrieval capabilities for large collections of embeddings.\n",
    "1) Retrieve relevant documents: Use retrievers to query the vector store and retrieve relevant documents based on user queries or search criteria. Retriever algorithms, such as similarity search or Maximum Marginal Relevance (MMR) search, can be used to find the most relevant documents."
   ]
  },
  {
   "cell_type": "markdown",
   "id": "2ac78499-2e84-4c75-aafd-efa5afbade95",
   "metadata": {},
   "source": [
    "#### Fully Manual Way of Doing Things"
   ]
  },
  {
   "cell_type": "code",
   "execution_count": 13,
   "id": "4d7a9b76-4e0a-4771-9a4a-35c595f79ed8",
   "metadata": {},
   "outputs": [],
   "source": [
    "from langchain.document_loaders import CSVLoader\n",
    "loader = CSVLoader(file_path=file)"
   ]
  },
  {
   "cell_type": "code",
   "execution_count": 14,
   "id": "9d5e540f-f101-4fed-a1ad-657109a49e57",
   "metadata": {},
   "outputs": [],
   "source": [
    "docs = loader.load()"
   ]
  },
  {
   "cell_type": "code",
   "execution_count": 15,
   "id": "4e45b293-5820-4f5d-a85b-c9d56852cd2b",
   "metadata": {},
   "outputs": [
    {
     "data": {
      "text/plain": [
       "Document(page_content=\": 0\\nname: Women's Campside Oxfords\\ndescription: This ultracomfortable lace-to-toe Oxford boasts a super-soft canvas, thick cushioning, and quality construction for a broken-in feel from the first time you put them on. \\n\\nSize & Fit: Order regular shoe size. For half sizes not offered, order up to next whole size. \\n\\nSpecs: Approx. weight: 1 lb.1 oz. per pair. \\n\\nConstruction: Soft canvas material for a broken-in feel and look. Comfortable EVA innersole with Cleansport NXT® antimicrobial odor control. Vintage hunt, fish and camping motif on innersole. Moderate arch contour of innersole. EVA foam midsole for cushioning and support. Chain-tread-inspired molded rubber outsole with modified chain-tread pattern. Imported. \\n\\nQuestions? Please contact us for any inquiries.\", metadata={'source': 'OutdoorClothingCatalog_1000.csv', 'row': 0})"
      ]
     },
     "execution_count": 15,
     "metadata": {},
     "output_type": "execute_result"
    }
   ],
   "source": [
    "docs[0]"
   ]
  },
  {
   "cell_type": "code",
   "execution_count": 16,
   "id": "bcd8148d-01d6-4a08-9891-fa0a31bb9500",
   "metadata": {},
   "outputs": [],
   "source": [
    "embed = embedding.embed_query(\"Subash\")"
   ]
  },
  {
   "cell_type": "code",
   "execution_count": 17,
   "id": "75f0e261-1f0c-4252-ae7b-792b1f9f55ec",
   "metadata": {},
   "outputs": [
    {
     "data": {
      "text/plain": [
       "[0.014350582845509052,\n",
       " -0.049315445125103,\n",
       " 0.013720898889005184,\n",
       " -0.05654430389404297,\n",
       " 0.08923717588186264]"
      ]
     },
     "execution_count": 17,
     "metadata": {},
     "output_type": "execute_result"
    }
   ],
   "source": [
    "embed[:5]"
   ]
  },
  {
   "cell_type": "code",
   "execution_count": 18,
   "id": "93c1271d-b0b1-4971-a65e-d3a45be2757a",
   "metadata": {},
   "outputs": [],
   "source": [
    "db = DocArrayInMemorySearch.from_documents(\n",
    "    docs,\n",
    "    embedding\n",
    ")"
   ]
  },
  {
   "cell_type": "code",
   "execution_count": 19,
   "id": "b9ced247-78e1-4271-8669-86b7698db700",
   "metadata": {},
   "outputs": [],
   "source": [
    "query = \"Please suggest a shirt with sunblocking\""
   ]
  },
  {
   "cell_type": "code",
   "execution_count": 20,
   "id": "44378169-e3fa-459c-bfc6-f150c555b389",
   "metadata": {},
   "outputs": [],
   "source": [
    "response_docs = db.similarity_search(query)"
   ]
  },
  {
   "cell_type": "code",
   "execution_count": 21,
   "id": "097263b6-8f87-4666-90df-17c82daf99be",
   "metadata": {},
   "outputs": [
    {
     "data": {
      "text/plain": [
       "Document(page_content=\": 709\\nname: Sunrise Tee\\ndescription: Stay cool, comfortable and dry on the hottest days in our women's UV-protective button down shirt. The lightweight, high-performance fabric wicks away moisture and dries quickly.\\n\\nSize & Fit\\nSlightly Fitted: Softly shapes the body. Falls at hip.\\n\\nWhy We Love It\\nOur lightest hot-weather shirt lets you beat the heat. Originally designed for fishing, it's also a great choice for travel thanks to its wrinkle-free fabric and built-in sun protection with a rating of UPF 50+.\\n\\nFabric & Care\\nLightweight performance synthetic wicks moisture, resists wrinkles and dries fast. Shell: 71% nylon, 29% polyester. Cape lining: 100% polyester. Machine wash and dry.\\n\\nAdditional Features\\nBuilt-in SunSmart™ UPF 50+ rated – the highest rated sun protection possible. The high-performance fabric keeps you cool and comfortable by wicking perspiration away. Smoother buttons, low-profile pockets and side shaping for a flattering fit. Front and back cape venting. Two front pockets, tool tabs and eyewear loop. Wrinkle free. Imported.\\n\\nSun Protection That Won't Wear Off\\nOur\", metadata={'source': 'OutdoorClothingCatalog_1000.csv', 'row': 709})"
      ]
     },
     "execution_count": 21,
     "metadata": {},
     "output_type": "execute_result"
    }
   ],
   "source": [
    "response_docs[0]"
   ]
  },
  {
   "cell_type": "markdown",
   "id": "4b53e7d9-af6d-4116-96cf-8f3d9faa3e2a",
   "metadata": {},
   "source": [
    "If we were doing this by hand, we would combine the documents into a single piece of text."
   ]
  },
  {
   "cell_type": "code",
   "execution_count": 22,
   "id": "faef410e-592c-4ca4-8e6d-d87fde01cb58",
   "metadata": {},
   "outputs": [],
   "source": [
    "qdocs = \"\".join([docs[i].page_content for i in range(len(response_docs))])"
   ]
  },
  {
   "cell_type": "code",
   "execution_count": 23,
   "id": "06ab0515-99e8-4cde-9d38-37cf93b233cb",
   "metadata": {},
   "outputs": [
    {
     "name": "stderr",
     "output_type": "stream",
     "text": [
      "/home/mojo/miniconda3/lib/python3.12/site-packages/langchain_core/_api/deprecation.py:139: LangChainDeprecationWarning: The method `BaseChatModel.call_as_llm` was deprecated in langchain-core 0.1.7 and will be removed in 0.3.0. Use invoke instead.\n",
      "  warn_deprecated(\n"
     ]
    }
   ],
   "source": [
    "response = llm.call_as_llm(f\"{qdocs} Question: Please list all your \\\n",
    "shirts with sun protection in a table in markdown and summarize each one.\")"
   ]
  },
  {
   "cell_type": "code",
   "execution_count": 24,
   "id": "aeae7c5d-6e0a-4091-b91d-d4f1150b1224",
   "metadata": {},
   "outputs": [
    {
     "data": {
      "text/markdown": [
       " | Name | Description | Size & Fit | Specs | Construction & Additional Features |\n",
       "|---|---|---|---|---|\n",
       "| Women's Campside Oxfords | Ultracomfortable lace-to-toe Oxford with soft canvas material and EVA foam midsole. Order regular shoe size. | Approx. weight: 1 lb.1 oz. per pair. | Features Cleansport NXT® antimicrobial odor control. | Imported. |\n",
       "| Infant and Toddler Girls' Coastal Chill Swimsuit, Two-Piece | Bright colored, ruffles and whimsical prints two-piece swimsuit for toddlers with UPF 50+ rated fabric. | N/A | Made from four-way-stretch and chlorine-resistant fabric. | Fully lined bottom and crossover no-slip straps. |\n",
       "| Refresh Swimwear, V-Neck Tankini Contrasts | Watersport-ready tankini top with V-neck silhouette, recycled nylon and Lycra® spandex for perfect stretch. | Fitted: Sits close to the body | UPF 50+ rated - the highest rated sun protection possible. | Lightweight racerback straps, handwash, line dry. |\n",
       "\n",
       "1. Women's Campside Oxfords: These ultracomfortable lace-to-toe Oxfords feature a soft canvas material and EVA foam midsole, providing a broken-in feel and look. With Cleansport NXT® antimicrobial odor control, these shoes are imported and order in regular shoe size.\n",
       "2. Infant and Toddler Girls' Coastal Chill Swimsuit, Two-Piece: A bright colored two-piece swimsuit designed for toddler girls, with UPF 50+ rated fabric that provides the highest rated sun protection possible, blocking 98% of the sun's harmful rays. It is made from four-way-stretch and chlorine-resistant fabric, with fully lined bottom and crossover no-slip straps for a secure fit and maximum coverage.\n",
       "3. Refresh Swimwear, V-Neck Tankini Contrasts: Watersport-ready tankini top made of premium Italian-blend recycled nylon with Lycra® spandex, providing perfect stretch. The top has lightweight racerback straps and a flattering V-neck silhouette, with UPF 50+ rated - the highest rated sun protection possible. It is handwash and line dry."
      ],
      "text/plain": [
       "<IPython.core.display.Markdown object>"
      ]
     },
     "metadata": {},
     "output_type": "display_data"
    }
   ],
   "source": [
    "display(Markdown(response))"
   ]
  },
  {
   "cell_type": "markdown",
   "id": "1baedab8-4eb6-4272-99f7-c8f2d49ffc5d",
   "metadata": {},
   "source": [
    "#### Using RetrievalQA"
   ]
  },
  {
   "cell_type": "markdown",
   "id": "88605bf2-9109-48eb-8f1d-05397d5da05d",
   "metadata": {},
   "source": [
    "For Question Answer over our own documents, we need to create a  **Retriever** from this **Vector Store**.\n",
    "\n",
    "**Retriever** is a generic interface that can be underpinned by any method that takes in a query and returns documents."
   ]
  },
  {
   "cell_type": "code",
   "execution_count": 25,
   "id": "b0a169b0-2132-4b35-bd23-fdef23055faa",
   "metadata": {},
   "outputs": [],
   "source": [
    "retriever = db.as_retriever()"
   ]
  },
  {
   "cell_type": "markdown",
   "id": "96e26cc1-3d65-4319-8751-cf323ba1c0d2",
   "metadata": {},
   "source": [
    "All these steps can be encapsulated with the LangChain chain. Here we can create a retrieval QA chain. This does retrieval and does Question Answering over the retrieved documents."
   ]
  },
  {
   "cell_type": "markdown",
   "id": "0d17f60e-b377-4042-ad1c-0f718adb8bd5",
   "metadata": {},
   "source": [
    "![Stuff Method](data/images/stuff-method.png)"
   ]
  },
  {
   "cell_type": "markdown",
   "id": "fe6b2c85-a388-4ae5-917d-e9aeb6721821",
   "metadata": {},
   "source": [
    "![Additional Chain Types](data/images/additional-chain-types.png)"
   ]
  },
  {
   "cell_type": "code",
   "execution_count": 26,
   "id": "eb5d994d-098c-4df5-a7f3-c6a28162be43",
   "metadata": {},
   "outputs": [],
   "source": [
    "qa_stuff = RetrievalQA.from_chain_type(\n",
    "    llm=llm,\n",
    "    chain_type=\"stuff\",\n",
    "    retriever=retriever,\n",
    "    verbose=True\n",
    ")"
   ]
  },
  {
   "cell_type": "code",
   "execution_count": 27,
   "id": "b5b42e2f-1b9c-49b3-ac30-ea2f798e27de",
   "metadata": {},
   "outputs": [],
   "source": [
    "query = \"Please list all your shirts with sun protection in a table in markdown and summarize each one.\""
   ]
  },
  {
   "cell_type": "code",
   "execution_count": 28,
   "id": "4d62dd82-2a13-4937-b83d-9e0349d8669b",
   "metadata": {},
   "outputs": [
    {
     "name": "stderr",
     "output_type": "stream",
     "text": [
      "/home/mojo/miniconda3/lib/python3.12/site-packages/langchain_core/_api/deprecation.py:139: LangChainDeprecationWarning: The method `Chain.run` was deprecated in langchain 0.1.0 and will be removed in 0.3.0. Use invoke instead.\n",
      "  warn_deprecated(\n"
     ]
    },
    {
     "name": "stdout",
     "output_type": "stream",
     "text": [
      "\n",
      "\n",
      "\u001b[1m> Entering new RetrievalQA chain...\u001b[0m\n",
      "\n",
      "\u001b[1m> Finished chain.\u001b[0m\n"
     ]
    }
   ],
   "source": [
    "response = qa_stuff.run(query)"
   ]
  },
  {
   "cell_type": "code",
   "execution_count": 29,
   "id": "4f51802b-a41b-4b89-80d7-79b3f5a61cfd",
   "metadata": {},
   "outputs": [
    {
     "data": {
      "text/markdown": [
       " Here is a table summarizing the shirts with sun protection:\n",
       "\n",
       "| Name | Description | Size & Fit | Fabric & Care | Additional Features | Sun Protection |\n",
       "| --- | --- | --- | --- | --- | --- |\n",
       "| Sunrise Tee | Lightweight, high-performance shirt for hot weather with UV-protective fabric | Slightly fitted, falls at hip | 71% nylon, 29% polyester | Built-in sun protection (UPF 50+), moisture-wicking, wrinkle-resistant | Blocks 98% of sun's harmful rays |\n",
       "| Women's Tropical Tee, Sleeveless | Sleeveless, button-up shirt with sun protection and flattering fit | Slightly fitted, falls at hip | 71% nylon, 29% polyester | Updated design with smoother buttons, wrinkle-resistant | Blocks 98% of sun's harmful rays |\n",
       "| Sun Shield Shirt | High-performance sun shirt with UV protection | Slightly fitted, falls at hip | 78% nylon, 22% Lycra Xtra Life fiber | Moisture-wicking, quick-drying, abrasion-resistant | Blocks 98% of sun's harmful rays |\n",
       "| Men's Tropical Plaid Short-Sleeve Shirt | Lightweight, hot-weather shirt with UV protection and traditional fit | Relaxed through chest, sleeve, and waist | 100% polyester | Front and back cape venting, two front bellows pockets | Blocks 98% of sun's harmful rays |\n",
       "\n",
       "All of these shirts offer sun protection by blocking 98% of the sun's harmful rays through the use of high-performance fabrics. They are all designed for hot weather and have moisture-wicking and wrinkle-resistant properties. The Sunrise Tee and Women's Tropical Tee are slightly fitted and have low-profile pockets, while the Sun Shield Shirt is abrasion-resistant and fits comfortably over a swimsuit. The Men's Tropical Plaid Short-Sleeve Shirt has a traditional, relaxed fit and front and back cape venting."
      ],
      "text/plain": [
       "<IPython.core.display.Markdown object>"
      ]
     },
     "metadata": {},
     "output_type": "display_data"
    }
   ],
   "source": [
    "display(Markdown(response))"
   ]
  },
  {
   "cell_type": "markdown",
   "id": "370ca944-6594-41d4-98b2-715477035cb7",
   "metadata": {},
   "source": [
    "#### Using VectorStoreIndexCreator"
   ]
  },
  {
   "cell_type": "markdown",
   "id": "09e4b11c-52ed-47ba-8d20-c5e28e85a3ec",
   "metadata": {},
   "source": [
    "VectorstoreIndexCreator is just a wrapper around all this logic.\n",
    "\n",
    "A lot of the magic is being hidden in this: VectorstoreIndexCreator.\n",
    "Three main steps are going on after the documents are loaded:\n",
    "1) Splitting documents into chunks\n",
    "2) Creating embeddings for each document\n",
    "3) Storing documents and embeddings in a vectorstore"
   ]
  },
  {
   "cell_type": "code",
   "execution_count": 30,
   "id": "5c823a05-0a4c-4689-a99d-8d188147bb61",
   "metadata": {},
   "outputs": [],
   "source": [
    "index = VectorstoreIndexCreator(\n",
    "    vectorstore_cls=DocArrayInMemorySearch,\n",
    "    embedding=embedding,\n",
    ").from_loaders([loader])\n",
    "response = index.query(query, llm=llm)"
   ]
  },
  {
   "cell_type": "code",
   "execution_count": 31,
   "id": "f84c261e-1b21-4743-a976-81a6fa022e58",
   "metadata": {},
   "outputs": [
    {
     "data": {
      "text/markdown": [
       " | Product ID | Name | Description | Fabric & Care | Sun Protection |\n",
       "| --- | --- | --- | --- | --- |\n",
       "| 679 | Women's Tropical Tee, Sleeveless | Five-star sleeveless button-up shirt with SunSmart™ protection to block UV rays. Slightly fitted, wrinkle-resistant, and has two front pockets. Fabric: 71% nylon, 29% polyester. Machine washable. | Built-in SunSmart™ UPF 50+ rated sun protection, blocking 98% of harmful rays | Yes |\n",
       "| 255 | Sun Shield Shirt by | High-performance sun shirt that is guaranteed to protect from harmful UV rays. Slightly fitted, moisture-wicking, quick-drying, and abrasion-resistant. Fabric: 78% nylon, 22% Lycra Xtra Life fiber. Handwash and line dry recommended. | UPF 50+ rated sun protection, blocking 98% of harmful rays, and recommended by The Skin Cancer Foundation as an effective UV protectant. | Yes |\n",
       "| 618 | Men's Tropical Plaid Short-Sleeve Shirt | Lightweight hot-weather shirt with front and back cape venting for cool breezes. Relaxed traditional fit and two front bellows pockets. Fabric: 100% polyester. Machine washable. | UPF 50+ rated sun protection, blocking 98% of harmful rays, and wrinkle-resistant. | Yes |\n",
       "| 709 | Sunrise Tee | Lightweight performance synthetic shirt for women. Slightly fitted, wrinkle-free, and has a cape lining for sun protection. Fast-drying and moisture-wicking. Fabric: 71% nylon, 29% polyester. Machine washable. | Built-in sun protection with a UPF 50+ rating. | Yes |\n",
       "\n",
       "In summary, all four shirts offer UPF 50+ sun protection that blocks 98% of harmful UV rays, is lightweight and designed for hot weather, wrinkle-resistant, and machine washable. The Women's Tropical Tee and Sunrise Tee are specifically designed for women, while the Tropical Plaid Shirt is for men. The Sun Shield Shirt offers additional features such as moisture-wicking and quick-drying capabilities."
      ],
      "text/plain": [
       "<IPython.core.display.Markdown object>"
      ]
     },
     "metadata": {},
     "output_type": "display_data"
    }
   ],
   "source": [
    "display(Markdown(response))"
   ]
  },
  {
   "cell_type": "code",
   "execution_count": null,
   "id": "acba7c2a-4b44-4734-88e9-e5e3baa42907",
   "metadata": {},
   "outputs": [],
   "source": []
  }
 ],
 "metadata": {
  "kernelspec": {
   "display_name": "Python 3 (ipykernel)",
   "language": "python",
   "name": "python3"
  },
  "language_info": {
   "codemirror_mode": {
    "name": "ipython",
    "version": 3
   },
   "file_extension": ".py",
   "mimetype": "text/x-python",
   "name": "python",
   "nbconvert_exporter": "python",
   "pygments_lexer": "ipython3",
   "version": "3.12.2"
  }
 },
 "nbformat": 4,
 "nbformat_minor": 5
}
