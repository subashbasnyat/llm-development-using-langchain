{
 "cells": [
  {
   "cell_type": "code",
   "execution_count": 1,
   "id": "ae9bb9af-a150-4746-a00d-33787306a63c",
   "metadata": {},
   "outputs": [],
   "source": [
    "import os\n",
    "os.environ[\"NVIDIA_API_KEY\"] = \"XXXXXXXXXXXXXXXXXXXXXXXXXXXXXX\""
   ]
  },
  {
   "cell_type": "code",
   "execution_count": 40,
   "id": "d6430186-8d1e-4e7c-89a4-c2d3c4c97bbc",
   "metadata": {},
   "outputs": [],
   "source": [
    "from langchain_nvidia_ai_endpoints import ChatNVIDIA\n",
    "llm_nvidia = ChatNVIDIA(model=\"mistralai/mixtral-8x7b-instruct-v0.1\")"
   ]
  },
  {
   "cell_type": "code",
   "execution_count": 41,
   "id": "23d9b674-dfc7-4b14-a79e-8e11f34aea3f",
   "metadata": {},
   "outputs": [],
   "source": [
    "from langchain_community.chat_models import ChatOllama\n",
    "\n",
    "llm_ollama = ChatOllama(model=\"llama3\")"
   ]
  },
  {
   "cell_type": "code",
   "execution_count": 42,
   "id": "137870ed-0aa9-44df-b7af-467106e2aa83",
   "metadata": {},
   "outputs": [],
   "source": [
    "llm = llm_nvidia"
   ]
  },
  {
   "cell_type": "markdown",
   "id": "b05acf91-38ef-4dad-8e4a-730ed8a4d2ff",
   "metadata": {},
   "source": [
    "# Agents"
   ]
  },
  {
   "cell_type": "code",
   "execution_count": 43,
   "id": "62b0311e-91b9-40cf-991b-10e1e054cf9b",
   "metadata": {},
   "outputs": [],
   "source": [
    "#!pip install langchain-experimental\n",
    "# !pip install numexpr\n",
    "#!pip install wikipedia\n",
    "#!pip install langchainhub"
   ]
  },
  {
   "cell_type": "code",
   "execution_count": 44,
   "id": "f3bc0f59-f680-472a-ad34-fc406a1507e1",
   "metadata": {},
   "outputs": [],
   "source": [
    "from langchain.agents import AgentExecutor, load_tools, create_react_agent \n",
    "from langchain_core.tools import Tool\n",
    "from langchain_experimental.utilities import PythonREPL\n",
    "from langchain.prompts import PromptTemplate"
   ]
  },
  {
   "cell_type": "code",
   "execution_count": 45,
   "id": "ab3a13a5-1e91-4393-9ed2-d03c556dcb79",
   "metadata": {},
   "outputs": [],
   "source": [
    "tools = load_tools([\"llm-math\",\"wikipedia\"], llm=llm)"
   ]
  },
  {
   "cell_type": "code",
   "execution_count": 46,
   "id": "4f9714ed-1652-4957-a403-2d9842143a76",
   "metadata": {},
   "outputs": [],
   "source": [
    "prompt_text = '''Answer the following questions as best you can. You have access to the following tools:\n",
    "\n",
    "{tools}\n",
    "\n",
    "Use the following format:\n",
    "\n",
    "Question: the input question you must answer\n",
    "Thought: you should always think about what to do\n",
    "Action: the action to take, should be one of [{tool_names}]\n",
    "Action Input: the input to the action\n",
    "Observation: the result of the action\n",
    "... (this Thought/Action/Action Input/Observation can repeat N times)\n",
    "Thought: I now know the final answer\n",
    "Final Answer: the final answer to the original input question\n",
    "\n",
    "Begin!\n",
    "\n",
    "Question: {input}\n",
    "Thought:{agent_scratchpad}'''\n",
    "prompt = PromptTemplate.from_template(prompt_text)\n",
    "agent = create_react_agent(llm = llm_nvidia, tools = tools, prompt = prompt)\n",
    "agent_executor = AgentExecutor(agent=agent, tools=tools)"
   ]
  },
  {
   "cell_type": "code",
   "execution_count": 47,
   "id": "77bc0af8-ee38-4b23-96e4-71e13ed21df1",
   "metadata": {},
   "outputs": [
    {
     "name": "stdout",
     "output_type": "stream",
     "text": [
      "The 25% of 300 is 75.0.\n"
     ]
    }
   ],
   "source": [
    "question = {\n",
    "    \"input\": \"What is the 25% of 300?\"\n",
    "}\n",
    "\n",
    "result = agent_executor.invoke(question)\n",
    "print(result['output'])"
   ]
  },
  {
   "cell_type": "markdown",
   "id": "254bfda9-0bff-4162-af83-a49dc7e56afa",
   "metadata": {},
   "source": [
    "## Wikipedia example"
   ]
  },
  {
   "cell_type": "code",
   "execution_count": 48,
   "id": "dea50032-de09-49cb-86ac-6ce6c90ad718",
   "metadata": {},
   "outputs": [],
   "source": [
    "llm = ChatNVIDIA(model=\"mistralai/mixtral-8x7b-instruct-v0.1\", temperature=0.0)"
   ]
  },
  {
   "cell_type": "code",
   "execution_count": 49,
   "id": "8a7baf76-903c-4e97-b7e5-185906e5d4c8",
   "metadata": {},
   "outputs": [
    {
     "name": "stdout",
     "output_type": "stream",
     "text": [
      "Tom Michael Mitchell is a computer scientist and the Founders University Professor at Carnegie Mellon University. He is the author of the book \"Machine Learning\".\n"
     ]
    }
   ],
   "source": [
    "question = {\n",
    "    \"input\" : \"Tom Michael Mitchell is an American computer scientist \\\n",
    "and the Founders University Professor at Carnegie Mellon University (CMU)\\\n",
    "what book did he write?\"\n",
    "}\n",
    "result = agent_executor.invoke(question) \n",
    "print(result['output'])"
   ]
  },
  {
   "cell_type": "markdown",
   "id": "225a7c07-4e1c-45a8-a8cf-5507da3a9399",
   "metadata": {},
   "source": [
    "## Python Agent"
   ]
  },
  {
   "cell_type": "code",
   "execution_count": 50,
   "id": "797d4323-e09d-4445-831f-d644c1ab8299",
   "metadata": {},
   "outputs": [
    {
     "name": "stderr",
     "output_type": "stream",
     "text": [
      "Python REPL can execute arbitrary code. Use with caution.\n"
     ]
    },
    {
     "data": {
      "text/plain": [
       "'4\\n'"
      ]
     },
     "execution_count": 50,
     "metadata": {},
     "output_type": "execute_result"
    }
   ],
   "source": [
    "python_repl = PythonREPL()\n",
    "python_repl.run(\"print(2+2)\")"
   ]
  },
  {
   "cell_type": "code",
   "execution_count": 51,
   "id": "8cccde0e-a14f-4737-9e36-128af43e9794",
   "metadata": {},
   "outputs": [],
   "source": [
    "repl_tool = Tool(\n",
    "    name=\"python_repl\",\n",
    "    description=\"A Python shell. Use this to execute python commands. Input should be a valid python command. If you want to see the output of a value, you should print it out with `print(...)`.\",\n",
    "    func=python_repl.run,\n",
    ")\n",
    "agent = create_react_agent(llm = llm, tools = [repl_tool], prompt = prompt)\n",
    "agent_executor = AgentExecutor(agent=agent, tools=[repl_tool], handle_parsing_errors=True)\n"
   ]
  },
  {
   "cell_type": "code",
   "execution_count": 52,
   "id": "88a738de-ffba-4b65-93a2-35dd16a7b0da",
   "metadata": {},
   "outputs": [],
   "source": [
    "customer_list = [[\"Harrison\", \"Chase\"], \n",
    "                 [\"Lang\", \"Chain\"],\n",
    "                 [\"Dolly\", \"Too\"],\n",
    "                 [\"Elle\", \"Elem\"], \n",
    "                 [\"Geoff\",\"Fusion\"], \n",
    "                 [\"Trance\",\"Former\"],\n",
    "                 [\"Jen\",\"Ayai\"]\n",
    "                ]"
   ]
  },
  {
   "cell_type": "code",
   "execution_count": 53,
   "id": "8946738c-3cef-4a65-8295-bf56961c3393",
   "metadata": {},
   "outputs": [],
   "source": [
    "question = {\n",
    "    \"input\": f\"\"\"Sort these customers by last name \n",
    "    and then first name \n",
    "    and print the output: {customer_list}\"\"\"\n",
    "}\n",
    "\n",
    "result = agent_executor.invoke(question)"
   ]
  },
  {
   "cell_type": "code",
   "execution_count": 54,
   "id": "ef7ee3b9-db32-4918-8419-8928f18df0b7",
   "metadata": {},
   "outputs": [
    {
     "name": "stdout",
     "output_type": "stream",
     "text": [
      "```python\n",
      "Customers = [['Harrison', 'Chase'], ['Lang', 'Chain'], ['Dolly', 'Too'], ['Elle', 'Elem'], ['Geoff', 'Fusion'], ['Trance', 'Former'], ['Jen', 'Ayai']]\n",
      "sorted_customers = sorted(Customers, key=lambda x: (x[0], x[1]))\n",
      "for customer in sorted_customers:\n",
      "    print(customer)\n",
      "```\n"
     ]
    }
   ],
   "source": [
    "print(result['output'])"
   ]
  }
 ],
 "metadata": {
  "kernelspec": {
   "display_name": "Python 3 (ipykernel)",
   "language": "python",
   "name": "python3"
  },
  "language_info": {
   "codemirror_mode": {
    "name": "ipython",
    "version": 3
   },
   "file_extension": ".py",
   "mimetype": "text/x-python",
   "name": "python",
   "nbconvert_exporter": "python",
   "pygments_lexer": "ipython3",
   "version": "3.12.2"
  }
 },
 "nbformat": 4,
 "nbformat_minor": 5
}
